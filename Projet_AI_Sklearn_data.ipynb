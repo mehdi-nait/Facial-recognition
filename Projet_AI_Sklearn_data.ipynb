{
  "nbformat": 4,
  "nbformat_minor": 0,
  "metadata": {
    "colab": {
      "name": "Projet_AI_Sklearn_data.ipynb",
      "provenance": [],
      "collapsed_sections": [],
      "toc_visible": true
    },
    "kernelspec": {
      "name": "python3",
      "display_name": "Python 3"
    }
  },
  "cells": [
    {
      "cell_type": "code",
      "metadata": {
        "id": "vn3zOZ_4nxXu",
        "colab": {
          "base_uri": "https://localhost:8080/",
          "height": 34
        },
        "outputId": "3b7b436b-131e-49d4-8365-fe1fe433b74c"
      },
      "source": [
        "!pip install ipython-autotime #allows to measure the runtime\n",
        "\n",
        "%load_ext autotime"
      ],
      "execution_count": null,
      "outputs": [
        {
          "output_type": "stream",
          "text": [
            "Requirement already satisfied: ipython-autotime in /usr/local/lib/python3.6/dist-packages (0.1)\n"
          ],
          "name": "stdout"
        }
      ]
    },
    {
      "cell_type": "code",
      "metadata": {
        "id": "2Ya-m1fVlmlN"
      },
      "source": [
        "from matplotlib import pyplot as plt\n",
        "import numpy as np\n",
        "from sklearn.preprocessing import StandardScaler\n",
        "from google.colab.patches import cv2_imshow\n",
        "from sklearn.model_selection import train_test_split\n",
        "from sklearn.metrics import classification_report\n",
        "from sklearn.decomposition import PCA\n",
        "from sklearn import preprocessing\n",
        "from sklearn.model_selection import cross_val_score\n",
        "\n",
        "from sklearn.datasets import fetch_lfw_people\n",
        "lfw_people = fetch_lfw_people(min_faces_per_person=25, resize=0.4)"
      ],
      "execution_count": null,
      "outputs": []
    },
    {
      "cell_type": "code",
      "metadata": {
        "id": "cvZWrZeOmXwb"
      },
      "source": [
        "n_samples, h, w = lfw_people.images.shape\n",
        "\n",
        "X = lfw_people.data\n",
        "n_features = X.shape[1]\n",
        "y = lfw_people.target\n",
        "\n",
        "target_names = lfw_people.target_names\n",
        "n_classes = target_names.shape[0]\n",
        "y=list(y)\n",
        "X_eq=[]\n",
        "y_eq=[]\n",
        "for i in range(42):\n",
        "  vect=[]\n",
        "  for j in y:\n",
        "    if j==i:\n",
        "      ind=y.index(j)\n",
        "      vect.append(X[ind])\n",
        "  for element in vect[:25]:\n",
        "    X_eq.append(element)\n",
        "    y_eq.append(i)\n",
        "\n",
        "\n",
        "X_train, X_test, y_train, y_test = train_test_split(X_eq, y_eq, test_size=0.25, random_state=11)\n",
        "\n",
        "X_train =preprocessing.scale(X_train)\n",
        "X_test=preprocessing.scale(X_test)\n",
        "\n",
        "pca = PCA(.95)\n",
        "pca.fit(X_train)\n",
        "\n",
        "X_train = pca.transform(X_train)\n",
        "X_test = pca.transform(X_test)"
      ],
      "execution_count": null,
      "outputs": []
    },
    {
      "cell_type": "markdown",
      "metadata": {
        "id": "4cr90FRQoq0B"
      },
      "source": [
        "ANN without LBP"
      ]
    },
    {
      "cell_type": "code",
      "metadata": {
        "id": "5eDXHWZsn_Hj",
        "colab": {
          "base_uri": "https://localhost:8080/",
          "height": 51
        },
        "outputId": "27f6c944-d87c-42c9-95c7-58c84b57737f"
      },
      "source": [
        "from sklearn.neural_network import MLPClassifier\n",
        "from sklearn.metrics import accuracy_score\n",
        "\n",
        "\n",
        "\n",
        "\n",
        "i=25\n",
        "j=27\n",
        "k=28\n",
        "\n",
        "clf = MLPClassifier(solver='sgd', alpha=1e-5, hidden_layer_sizes=(i, j, k), random_state=1)\n",
        "\n",
        "scores = cross_val_score(clf, X_eq, y_eq, cv=5)\n",
        "print(scores)\n",
        "print(\"accuracy :\",max(scores))"
      ],
      "execution_count": null,
      "outputs": [
        {
          "output_type": "stream",
          "text": [
            "[0.02380952 0.02380952 0.02380952 0.02380952 0.02380952]\n",
            "accuracy : 0.023809523809523808\n"
          ],
          "name": "stdout"
        }
      ]
    },
    {
      "cell_type": "markdown",
      "metadata": {
        "id": "I-JjpZGtJcqM"
      },
      "source": [
        "Sans equilibrage: 42% conf (25,27,28)\n",
        "apres equilibrage : 2%"
      ]
    },
    {
      "cell_type": "code",
      "metadata": {
        "id": "o9EqUTr8oC9j",
        "colab": {
          "base_uri": "https://localhost:8080/",
          "height": 34
        },
        "outputId": "8c009d29-d040-4232-bff8-54cb1934ef4e"
      },
      "source": [
        "#SVM without LBP\n",
        "\n",
        "from sklearn.svm import SVC\n",
        "from sklearn.metrics import accuracy_score\n",
        "clf = SVC(kernel=\"rbf\",gamma=\"scale\")\n",
        "\n",
        "scores = cross_val_score(clf, X_eq, y_eq, cv=5)\n",
        "print(\"Accuracy: \",max(scores))"
      ],
      "execution_count": null,
      "outputs": [
        {
          "output_type": "stream",
          "text": [
            "Accuracy:  1.0\n"
          ],
          "name": "stdout"
        }
      ]
    },
    {
      "cell_type": "markdown",
      "metadata": {
        "id": "tpJrpmstJmWS"
      },
      "source": [
        "Sans équilibrage: 52%\n",
        "après équilibrage : 100%"
      ]
    },
    {
      "cell_type": "code",
      "metadata": {
        "id": "XMoJyWk_owk3"
      },
      "source": [
        "#LBP dataset\n",
        "\n",
        "from skimage import feature\n",
        "import numpy as np \n",
        "\n",
        "X_LBP=[]\n",
        "for x in X_eq:\n",
        "  t=x.reshape(h,w)\n",
        "  gray = feature.local_binary_pattern(t, 10, 5, method=\"default\")\n",
        "  gray=np.concatenate(gray)\n",
        "  X_LBP.append(gray)\n",
        "\n",
        "X_train, X_test, y_train, y_test = train_test_split(X_LBP, y_eq, test_size=0.25, random_state=42)\n",
        "\n"
      ],
      "execution_count": null,
      "outputs": []
    },
    {
      "cell_type": "code",
      "metadata": {
        "id": "VqqkI3xwo5eH",
        "colab": {
          "base_uri": "https://localhost:8080/",
          "height": 51
        },
        "outputId": "d60527c8-c602-4c12-c89f-9933353ad431"
      },
      "source": [
        "from sklearn.neural_network import MLPClassifier\n",
        "from sklearn.metrics import accuracy_score\n",
        "\n",
        "\n",
        "\n",
        "\n",
        "i=25\n",
        "j=27\n",
        "k=28\n",
        "\n",
        "clf = MLPClassifier(solver='sgd', alpha=1e-5, hidden_layer_sizes=(i, j, k), random_state=1)\n",
        "print (\"processing: \", i, ' ', j, ' ', k)\n",
        "scores = cross_val_score(clf, X_LBP, y_eq, cv=5)\n",
        "print(\"accuracy: \",max(scores))\n",
        "\n",
        "\n"
      ],
      "execution_count": null,
      "outputs": [
        {
          "output_type": "stream",
          "text": [
            "processing:  25   27   28\n",
            "accuracy:  0.023809523809523808\n"
          ],
          "name": "stdout"
        }
      ]
    },
    {
      "cell_type": "markdown",
      "metadata": {
        "id": "vF29ykLDsKaq"
      },
      "source": [
        "**Sans équilibrage**\n",
        "\n",
        "1 layer : 20% --> 3\n",
        "\n",
        "2 layers: 21,8% --> 4,2\n",
        "\n",
        "3 layers : \n",
        "sgd 25,27,28   20%\n",
        "\n",
        "adam: 20%\n",
        "\n",
        "lbfgs: 4%\n",
        "** après équilibrage**\n",
        "\n",
        "adam: 7%\n",
        "\n",
        "lbfgs: 3%\n",
        "\n",
        "sgd: 2%\n"
      ]
    },
    {
      "cell_type": "code",
      "metadata": {
        "id": "2AxW2o-so8Vd",
        "colab": {
          "base_uri": "https://localhost:8080/",
          "height": 34
        },
        "outputId": "4bca57e4-323d-4cd3-864b-57aa934862a0"
      },
      "source": [
        "#SVM with LBP\n",
        "\n",
        "from sklearn.svm import SVC\n",
        "from sklearn.metrics import accuracy_score\n",
        "clf = SVC(kernel=\"rbf\",gamma=\"scale\")\n",
        "scores = cross_val_score(clf, X_LBP, y_eq, cv=5)\n",
        "print(\"accuracy: \",max(scores))\n"
      ],
      "execution_count": null,
      "outputs": [
        {
          "output_type": "stream",
          "text": [
            "accuracy:  1.0\n"
          ],
          "name": "stdout"
        }
      ]
    },
    {
      "cell_type": "markdown",
      "metadata": {
        "id": "7O46NRY9KIGQ"
      },
      "source": [
        "(sans équilibrage) SVM rbf: 50%\n",
        "\n",
        "(avec équilibrage) SVM rbf : 100%"
      ]
    },
    {
      "cell_type": "code",
      "metadata": {
        "id": "uWNikKa17Czp",
        "colab": {
          "base_uri": "https://localhost:8080/",
          "height": 34
        },
        "outputId": "4df7e2e0-03b9-4e89-dc3d-4e563c723150"
      },
      "source": [
        "#SVM with LBP\n",
        "\n",
        "from sklearn.svm import SVC\n",
        "from sklearn.metrics import accuracy_score\n",
        "clf = SVC(kernel=\"sigmoid\",gamma=\"scale\")\n",
        "scores = cross_val_score(clf, X_LBP, y_eq, cv=5)\n",
        "print(\"accuracy: \",max(scores))\n"
      ],
      "execution_count": null,
      "outputs": [
        {
          "output_type": "stream",
          "text": [
            "accuracy:  1.0\n"
          ],
          "name": "stdout"
        }
      ]
    },
    {
      "cell_type": "markdown",
      "metadata": {
        "id": "3fmPRdS4KWYY"
      },
      "source": [
        "**Sans équilibrage**\n",
        "\n",
        "SVM sigmoid: 23%\n",
        "\n",
        "**avec équilibrage**\n",
        "\n",
        "SVM sigmoid : 100%"
      ]
    },
    {
      "cell_type": "code",
      "metadata": {
        "id": "mpuvBAKw7HEo",
        "colab": {
          "base_uri": "https://localhost:8080/",
          "height": 34
        },
        "outputId": "59167075-c25b-40b1-ea6b-2c384bbc8454"
      },
      "source": [
        "#SVM with LBP\n",
        "\n",
        "from sklearn.svm import SVC\n",
        "from sklearn.metrics import accuracy_score\n",
        "clf = SVC(kernel=\"poly\",gamma=\"scale\")\n",
        "scores = cross_val_score(clf, X_LBP, y_eq, cv=5)\n",
        "print(\"accuracy: \",max(scores))\n"
      ],
      "execution_count": null,
      "outputs": [
        {
          "output_type": "stream",
          "text": [
            "accuracy:  1.0\n"
          ],
          "name": "stdout"
        }
      ]
    },
    {
      "cell_type": "markdown",
      "metadata": {
        "id": "Oy-hirwjKf2g"
      },
      "source": [
        "**sans équilibrage**\n",
        "\n",
        "SVM poly: 62%\n",
        "\n",
        "**avec équilibrage**\n",
        "\n",
        "SVM poly: 100%"
      ]
    },
    {
      "cell_type": "code",
      "metadata": {
        "id": "KcyrAFxL7xUd",
        "colab": {
          "base_uri": "https://localhost:8080/",
          "height": 34
        },
        "outputId": "5f17caba-b304-4ecd-f244-87edfca8e17c"
      },
      "source": [
        "#SVM with LBP\n",
        "\n",
        "from sklearn.svm import SVC\n",
        "from sklearn.metrics import accuracy_score\n",
        "clf = SVC(kernel=\"linear\",gamma=\"scale\")\n",
        "scores = cross_val_score(clf, X_LBP, y_eq, cv=5)\n",
        "print(\"accuracy: \",max(scores))\n"
      ],
      "execution_count": null,
      "outputs": [
        {
          "output_type": "stream",
          "text": [
            "accuracy:  1.0\n"
          ],
          "name": "stdout"
        }
      ]
    },
    {
      "cell_type": "markdown",
      "metadata": {
        "id": "YUvRfoF9KpbG"
      },
      "source": [
        "Sans équilibrage\n",
        "\n",
        "SVM linear: 60.8%\n",
        "\n",
        "Avec équilibrage: \n",
        "\n",
        "SVM linear: 100%"
      ]
    },
    {
      "cell_type": "code",
      "metadata": {
        "id": "1CRLurfxISrd",
        "colab": {
          "base_uri": "https://localhost:8080/",
          "height": 377
        },
        "outputId": "7c95c89d-5c6b-4bd9-e3a5-3dfdb22ed7d8"
      },
      "source": [
        "\n",
        "\n",
        "clf = SVC(kernel=\"linear\",gamma=\"scale\")\n",
        "scores = cross_val_score(clf, X_LBP, y_eq, cv=5)\n",
        "print(\"accuracy: \",max(scores))\n"
      ],
      "execution_count": null,
      "outputs": [
        {
          "output_type": "stream",
          "text": [
            "/usr/local/lib/python3.6/dist-packages/sklearn/model_selection/_validation.py:536: FitFailedWarning: Estimator fit failed. The score on this train-test partition for these parameters will be set to nan. Details: \n",
            "ValueError: Found array with dim 3. Estimator expected <= 2.\n",
            "\n",
            "  FitFailedWarning)\n",
            "/usr/local/lib/python3.6/dist-packages/sklearn/model_selection/_validation.py:536: FitFailedWarning: Estimator fit failed. The score on this train-test partition for these parameters will be set to nan. Details: \n",
            "ValueError: Found array with dim 3. Estimator expected <= 2.\n",
            "\n",
            "  FitFailedWarning)\n",
            "/usr/local/lib/python3.6/dist-packages/sklearn/model_selection/_validation.py:536: FitFailedWarning: Estimator fit failed. The score on this train-test partition for these parameters will be set to nan. Details: \n",
            "ValueError: Found array with dim 3. Estimator expected <= 2.\n",
            "\n",
            "  FitFailedWarning)\n",
            "/usr/local/lib/python3.6/dist-packages/sklearn/model_selection/_validation.py:536: FitFailedWarning: Estimator fit failed. The score on this train-test partition for these parameters will be set to nan. Details: \n",
            "ValueError: Found array with dim 3. Estimator expected <= 2.\n",
            "\n",
            "  FitFailedWarning)\n",
            "/usr/local/lib/python3.6/dist-packages/sklearn/model_selection/_validation.py:536: FitFailedWarning: Estimator fit failed. The score on this train-test partition for these parameters will be set to nan. Details: \n",
            "ValueError: Found array with dim 3. Estimator expected <= 2.\n",
            "\n",
            "  FitFailedWarning)\n"
          ],
          "name": "stderr"
        }
      ]
    },
    {
      "cell_type": "code",
      "metadata": {
        "id": "8AMEoO7CIyZ_",
        "colab": {
          "base_uri": "https://localhost:8080/",
          "height": 51
        },
        "outputId": "86391dc4-206e-4f13-dfe1-57bfb8478f50"
      },
      "source": [
        "print(scores)"
      ],
      "execution_count": null,
      "outputs": [
        {
          "output_type": "stream",
          "text": [
            "[0.69111969 0.65830116 0.63706564 0.66537718 0.63249516]\n",
            "time: 2.44 ms\n"
          ],
          "name": "stdout"
        }
      ]
    },
    {
      "cell_type": "code",
      "metadata": {
        "id": "g252QV89JMZV"
      },
      "source": [
        "y=list(y)\n",
        "X_eq=[]\n",
        "y_eq=[]\n",
        "for i in range(42):\n",
        "  vect=[]\n",
        "  for j in y:\n",
        "    if j==i:\n",
        "      ind=y.index(j)\n",
        "      vect.append(X[ind])\n",
        "  for element in vect[:25]:\n",
        "    X_eq.append(element)\n",
        "    y_eq.append(i)"
      ],
      "execution_count": null,
      "outputs": []
    }
  ]
}