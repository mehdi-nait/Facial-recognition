{
  "nbformat": 4,
  "nbformat_minor": 0,
  "metadata": {
    "colab": {
      "name": "projet_AI_kaggle_data.ipynb",
      "provenance": [],
      "collapsed_sections": [
        "cne1Lp0K7LUW",
        "HDBA0E587Tkd"
      ],
      "toc_visible": true,
      "machine_shape": "hm"
    },
    "kernelspec": {
      "name": "python3",
      "display_name": "Python 3"
    },
    "accelerator": "GPU"
  },
  "cells": [
    {
      "cell_type": "markdown",
      "metadata": {
        "id": "02K2pr-PCGzW"
      },
      "source": [
        "# Importing Libraries and requirements"
      ]
    },
    {
      "cell_type": "code",
      "metadata": {
        "id": "nT_JWd4fBcwt"
      },
      "source": [
        "import numpy as np\n",
        "from google.colab import files\n",
        "from google.colab.patches import cv2_imshow\n",
        "from skimage import feature\n",
        "from sklearn.model_selection import train_test_split\n",
        "import random\n",
        "import cv2\n",
        "import os\n",
        "import matplotlib.pyplot as plt\n",
        "from numpy import expand_dims\n",
        "from keras.preprocessing.image import load_img\n",
        "from keras.preprocessing.image import img_to_array\n",
        "from keras.preprocessing.image import ImageDataGenerator\n",
        "from PIL import Image\n",
        "from sklearn.neural_network import MLPClassifier\n",
        "from sklearn.metrics import accuracy_score\n",
        "from sklearn.svm import SVC\n",
        "from sklearn.preprocessing import StandardScaler\n",
        "from sklearn.decomposition import PCA\n",
        "\n"
      ],
      "execution_count": null,
      "outputs": []
    },
    {
      "cell_type": "code",
      "metadata": {
        "id": "vOTOX52aELAK",
        "colab": {
          "base_uri": "https://localhost:8080/"
        },
        "outputId": "30dd9486-6e95-43d1-8721-4008de314160"
      },
      "source": [
        "!pip install ipython-autotime #allows to measure the runtime\n",
        "\n",
        "%load_ext autotime"
      ],
      "execution_count": null,
      "outputs": [
        {
          "output_type": "stream",
          "text": [
            "Collecting ipython-autotime\n",
            "  Downloading https://files.pythonhosted.org/packages/3f/58/a4a65efcce5c81a67b6893ade862736de355a3a718af5533d30c991831ce/ipython_autotime-0.2.0-py2.py3-none-any.whl\n",
            "Requirement already satisfied: ipython in /usr/local/lib/python3.6/dist-packages (from ipython-autotime) (5.5.0)\n",
            "Requirement already satisfied: setuptools>=18.5 in /usr/local/lib/python3.6/dist-packages (from ipython->ipython-autotime) (50.3.2)\n",
            "Requirement already satisfied: pickleshare in /usr/local/lib/python3.6/dist-packages (from ipython->ipython-autotime) (0.7.5)\n",
            "Requirement already satisfied: prompt-toolkit<2.0.0,>=1.0.4 in /usr/local/lib/python3.6/dist-packages (from ipython->ipython-autotime) (1.0.18)\n",
            "Requirement already satisfied: simplegeneric>0.8 in /usr/local/lib/python3.6/dist-packages (from ipython->ipython-autotime) (0.8.1)\n",
            "Requirement already satisfied: pygments in /usr/local/lib/python3.6/dist-packages (from ipython->ipython-autotime) (2.6.1)\n",
            "Requirement already satisfied: pexpect; sys_platform != \"win32\" in /usr/local/lib/python3.6/dist-packages (from ipython->ipython-autotime) (4.8.0)\n",
            "Requirement already satisfied: traitlets>=4.2 in /usr/local/lib/python3.6/dist-packages (from ipython->ipython-autotime) (4.3.3)\n",
            "Requirement already satisfied: decorator in /usr/local/lib/python3.6/dist-packages (from ipython->ipython-autotime) (4.4.2)\n",
            "Requirement already satisfied: six>=1.9.0 in /usr/local/lib/python3.6/dist-packages (from prompt-toolkit<2.0.0,>=1.0.4->ipython->ipython-autotime) (1.15.0)\n",
            "Requirement already satisfied: wcwidth in /usr/local/lib/python3.6/dist-packages (from prompt-toolkit<2.0.0,>=1.0.4->ipython->ipython-autotime) (0.2.5)\n",
            "Requirement already satisfied: ptyprocess>=0.5 in /usr/local/lib/python3.6/dist-packages (from pexpect; sys_platform != \"win32\"->ipython->ipython-autotime) (0.6.0)\n",
            "Requirement already satisfied: ipython-genutils in /usr/local/lib/python3.6/dist-packages (from traitlets>=4.2->ipython->ipython-autotime) (0.2.0)\n",
            "Installing collected packages: ipython-autotime\n",
            "Successfully installed ipython-autotime-0.2.0\n",
            "time: 170 µs\n"
          ],
          "name": "stdout"
        }
      ]
    },
    {
      "cell_type": "markdown",
      "metadata": {
        "id": "KzwWmvuJDRCt"
      },
      "source": [
        "# Importing Dataset from Kaggle"
      ]
    },
    {
      "cell_type": "code",
      "metadata": {
        "id": "zqrMt1rTDPu7",
        "colab": {
          "resources": {
            "http://localhost:8080/nbextensions/google.colab/files.js": {
              "data": "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",
              "ok": true,
              "headers": [
                [
                  "content-type",
                  "application/javascript"
                ]
              ],
              "status": 200,
              "status_text": ""
            }
          },
          "base_uri": "https://localhost:8080/",
          "height": 89
        },
        "outputId": "df71541e-ea9d-4a99-edb7-f8194d2af5fc"
      },
      "source": [
        "files.upload()\n"
      ],
      "execution_count": null,
      "outputs": [
        {
          "output_type": "display_data",
          "data": {
            "text/html": [
              "\n",
              "     <input type=\"file\" id=\"files-7eea081c-8937-4674-b901-24e407f72d7c\" name=\"files[]\" multiple disabled\n",
              "        style=\"border:none\" />\n",
              "     <output id=\"result-7eea081c-8937-4674-b901-24e407f72d7c\">\n",
              "      Upload widget is only available when the cell has been executed in the\n",
              "      current browser session. Please rerun this cell to enable.\n",
              "      </output>\n",
              "      <script src=\"/nbextensions/google.colab/files.js\"></script> "
            ],
            "text/plain": [
              "<IPython.core.display.HTML object>"
            ]
          },
          "metadata": {
            "tags": []
          }
        },
        {
          "output_type": "stream",
          "text": [
            "Saving kaggle.json to kaggle.json\n"
          ],
          "name": "stdout"
        },
        {
          "output_type": "execute_result",
          "data": {
            "text/plain": [
              "{'kaggle.json': b'{\"username\":\"mehdinait\",\"key\":\"8ccdc8b6ad6bd1f640c0e4371efe5fe2\"}'}"
            ]
          },
          "metadata": {
            "tags": []
          },
          "execution_count": 3
        },
        {
          "output_type": "stream",
          "text": [
            "time: 8.4 s\n"
          ],
          "name": "stdout"
        }
      ]
    },
    {
      "cell_type": "code",
      "metadata": {
        "id": "vwkmVUz7DY6-",
        "colab": {
          "base_uri": "https://localhost:8080/"
        },
        "outputId": "dc623a8c-747e-4b90-9404-c336fec36dff"
      },
      "source": [
        "!mkdir -p ~/.kaggle\n",
        "!cp kaggle.json ~/.kaggle/\n",
        "\n",
        "!chmod 600 ~/.kaggle/kaggle.json\n",
        "\n",
        "!kaggle datasets download -d atulanandjha/lfwpeople -p dataset\n",
        "\n",
        "\n",
        "\n",
        "\n"
      ],
      "execution_count": null,
      "outputs": [
        {
          "output_type": "stream",
          "text": [
            "Downloading lfwpeople.zip to dataset\n",
            "100% 232M/232M [00:17<00:00, 12.7MB/s]\n",
            "\n",
            "time: 21.2 s\n"
          ],
          "name": "stdout"
        }
      ]
    },
    {
      "cell_type": "code",
      "metadata": {
        "id": "0CkjIBNlEfm0",
        "colab": {
          "base_uri": "https://localhost:8080/"
        },
        "outputId": "c2b7c183-06c0-4f9f-e038-22dbbb775d9d"
      },
      "source": [
        "cd dataset"
      ],
      "execution_count": null,
      "outputs": [
        {
          "output_type": "stream",
          "text": [
            "/content/dataset\n",
            "time: 4.33 ms\n"
          ],
          "name": "stdout"
        }
      ]
    },
    {
      "cell_type": "code",
      "metadata": {
        "id": "8_1nN_9eElSr",
        "colab": {
          "base_uri": "https://localhost:8080/"
        },
        "outputId": "6ee36f8b-8a11-44c8-91f7-a2f1c197a36a"
      },
      "source": [
        "\n",
        "!unzip \\*.zip\n",
        "!rm lfwpeople.zip\n",
        "!tar -xf lfw-funneled.tgz\n",
        "!rm lfw-funneled.tgz\n"
      ],
      "execution_count": null,
      "outputs": [
        {
          "output_type": "stream",
          "text": [
            "Archive:  lfwpeople.zip\n",
            "  inflating: lfw-funneled.tgz        \n",
            "  inflating: pairs.txt               \n",
            "  inflating: pairsDevTest.txt        \n",
            "  inflating: pairsDevTrain.txt       \n",
            "time: 4.26 s\n"
          ],
          "name": "stdout"
        }
      ]
    },
    {
      "cell_type": "markdown",
      "metadata": {
        "id": "_hyrFWfLE0HW"
      },
      "source": [
        "# Discovering the dataset"
      ]
    },
    {
      "cell_type": "markdown",
      "metadata": {
        "id": "f-1VRwCdE4mN"
      },
      "source": [
        "functions to be used during datset creation process"
      ]
    },
    {
      "cell_type": "code",
      "metadata": {
        "id": "j3XY9x7nFpng",
        "colab": {
          "base_uri": "https://localhost:8080/"
        },
        "outputId": "f7a42887-2495-4dc7-d624-df9587492183"
      },
      "source": [
        "\n",
        "\n",
        "def get_names(chemin):    #gets all the names of the persons in the dataset\n",
        "  path=os.listdir(chemin)\n",
        "  names=[]\n",
        "  for pat in path:\n",
        "    if pat[-4:]!=\".txt\":\n",
        "      names.append(pat)\n",
        "  return names\n",
        "\n",
        "\n",
        "def get_sizes(names):   #Creates a list of the number of images of the input name list\n",
        "  sizes=[]\n",
        "  for name in names:\n",
        "    i=0\n",
        "    _path=os.listdir(chemin+\"/\"+name)\n",
        "    #print(_path)\n",
        "    for p in _path:\n",
        "      if p[-4:]==\".jpg\":\n",
        "        i=i+1\n",
        "    sizes.append(i)\n",
        "  return sizes\n",
        "\n",
        "def get_names_below_N(names,sizes_,N): #Returns a list of persons with number of images below N\n",
        "  N_names_below=[]\n",
        "  N_sizes_below=[]\n",
        "  for i in range(len(sizes_)):\n",
        "    si=sizes_[i]\n",
        "    if si<=N:\n",
        "      N_names_below.append(names[i])\n",
        "      N_sizes_below.append(si)\n",
        "  return N_names_below,N_sizes_below\n",
        "\n",
        "\n",
        "def get_names_above_N(names,sizes_,N): # Returns a reduced dataset where the number of images in each class is above N\n",
        "  N_names_above=[]\n",
        "  N_sizes_above=[]\n",
        "  for i in range(len(sizes_)):\n",
        "    si=sizes_[i]\n",
        "    if si>=N:\n",
        "      N_names_above.append(names[sizes_.index(si)])\n",
        "      N_sizes_above.append(si)\n",
        "  return N_names_above,N_sizes_above\n",
        "\n",
        "\n",
        "\n",
        "def create_dataset_N(N_Names,taille):\n",
        "  width = 25\n",
        "  height = 25\n",
        "  dim = (width, height)\n",
        "  X=[]\n",
        "  y=[]\n",
        "  dat=[]\n",
        "  list_names=N_Names\n",
        "  for name in list_names:\n",
        "    ch=os.listdir(\"lfw_funneled/\"+name)\n",
        "    for i in range(taille):\n",
        "      chemin_image=\"lfw_funneled/\"+name+\"/\"+ch[i]\n",
        "      img=cv2.imread(chemin_image)\n",
        "      gray=cv2.cvtColor(img,cv2.COLOR_BGR2GRAY)\n",
        "      resized=cv2.resize(gray,dim,interpolation = cv2.INTER_AREA)\n",
        "      img=np.concatenate(resized)\n",
        "      dat.append([img,list_names.index(name)])\n",
        "      random.shuffle(dat) #shuffle data\n",
        "      for features, label in dat:\n",
        "        X.append(features)\n",
        "        y.append(label)\n",
        "  return X,y\n",
        "\n",
        "\n",
        "\n",
        "def create_dataset_LBP_N(N_Names,taille):\n",
        "  width = 25\n",
        "  height = 25\n",
        "  dim = (width, height)\n",
        "  X=[]\n",
        "  y=[]\n",
        "  dat=[]\n",
        "  list_names=N_Names\n",
        "  for name in list_names:\n",
        "    ch=os.listdir(\"lfw_funneled/\"+name)\n",
        "    for i in range(taille):\n",
        "      chemin_image=\"lfw_funneled/\"+name+\"/\"+ch[i]\n",
        "      img=cv2.imread(chemin_image)\n",
        "      gray=cv2.cvtColor(img,cv2.COLOR_BGR2GRAY)\n",
        "      gray=feature.local_binary_pattern(gray, 10, 1, method=\"ror\")\n",
        "      resized=cv2.resize(gray,dim,interpolation = cv2.INTER_AREA)\n",
        "      img=np.concatenate(resized)\n",
        "      dat.append([img,list_names.index(name)])\n",
        "      random.shuffle(dat) #shuffle data\n",
        "      for features, label in dat:\n",
        "        X.append(features)\n",
        "        y.append(label)\n",
        "  return X,y"
      ],
      "execution_count": null,
      "outputs": [
        {
          "output_type": "stream",
          "text": [
            "time: 66.1 ms\n"
          ],
          "name": "stdout"
        }
      ]
    },
    {
      "cell_type": "markdown",
      "metadata": {
        "id": "cne1Lp0K7LUW"
      },
      "source": [
        "# Manipulating one image"
      ]
    },
    {
      "cell_type": "code",
      "metadata": {
        "colab": {
          "base_uri": "https://localhost:8080/"
        },
        "id": "1Lg461IAm6sy",
        "outputId": "1daf9515-eb56-4f5c-b1c3-afe3631481ad"
      },
      "source": [
        "cd lfw_funneled"
      ],
      "execution_count": null,
      "outputs": [
        {
          "output_type": "stream",
          "text": [
            "/content/dataset/lfw_funneled\n",
            "time: 1.93 ms\n"
          ],
          "name": "stdout"
        }
      ]
    },
    {
      "cell_type": "code",
      "metadata": {
        "id": "6mA-AFapGBHt",
        "colab": {
          "base_uri": "https://localhost:8080/",
          "height": 616
        },
        "outputId": "cff2887c-15ad-408c-ab85-069228b14a62"
      },
      "source": [
        "#reading one image and displaying it alongside of the LBP feature and histograme of the same image\n",
        "width = 50\n",
        "height = 50\n",
        "dim = (width, height)\n",
        "\n",
        "img = cv2.imread('Thor_Pedersen/Thor_Pedersen_0001.jpg',cv2.IMREAD_UNCHANGED)\n",
        "gray=cv2.cvtColor(img,cv2.COLOR_BGR2GRAY)\n",
        "img=cv2.resize(gray, dim, interpolation = cv2.INTER_AREA)\n",
        "cv2_imshow(img)\n",
        "feat = feature.local_binary_pattern(gray, 8, 1, method=\"ror\")\n",
        "print(\"\\n\")\n",
        "cv2_imshow(feat)\n",
        "testim=np.array(feat)\n",
        "n, bins, patches=plt.hist(testim.flatten(),bins=range(256)) #calc the normalized hist the histograme\n",
        "#n is the value of the bins (hist)\n",
        "#bins are the values [0-255]\n",
        "#patches : rectangles used to plot the hist\n",
        "\n",
        "###### we are interested in the n vector\n",
        "\n",
        "plt.show()\n"
      ],
      "execution_count": null,
      "outputs": [
        {
          "output_type": "display_data",
          "data": {
            "image/png": "[encoded data removed]",
            "text/plain": [
              "<PIL.Image.Image image mode=L size=50x50 at 0x7F8821B77588>"
            ]
          },
          "metadata": {
            "tags": []
          }
        },
        {
          "output_type": "stream",
          "text": [
            "\n",
            "\n"
          ],
          "name": "stdout"
        },
        {
          "output_type": "display_data",
          "data": {
            "image/png": "[encoded data removed]",
            "text/plain": [
              "<PIL.Image.Image image mode=L size=250x250 at 0x7F8821B77320>"
            ]
          },
          "metadata": {
            "tags": []
          }
        },
        {
          "output_type": "display_data",
          "data": {
            "image/png": "[encoded data removed]",
            "text/plain": [
              "<Figure size 432x288 with 1 Axes>"
            ]
          },
          "metadata": {
            "tags": [],
            "needs_background": "light"
          }
        },
        {
          "output_type": "stream",
          "text": [
            "time: 537 ms\n"
          ],
          "name": "stdout"
        }
      ]
    },
    {
      "cell_type": "markdown",
      "metadata": {
        "id": "HDBA0E587Tkd"
      },
      "source": [
        "# Test of PCA and Standarization"
      ]
    },
    {
      "cell_type": "markdown",
      "metadata": {
        "id": "XrawfvAmb3Xy"
      },
      "source": [
        "Now that we know how to calculate the histogram , we can proceed to our dataset Preparation where we calculate our features using LBP, we Standarize the feature and then use PCA to reduce dimensiality"
      ]
    },
    {
      "cell_type": "markdown",
      "metadata": {
        "id": "GJjGyRkUs4oQ"
      },
      "source": [
        "Before doing so ,we're gonna try if PCA impacts execution time, in order to do that , we will use 5 classes with 100 images each and compare"
      ]
    },
    {
      "cell_type": "markdown",
      "metadata": {
        "id": "kfT25g0bASdn"
      },
      "source": [
        "**Test without PCA / Standarization**"
      ]
    },
    {
      "cell_type": "code",
      "metadata": {
        "id": "IgTAMbZ4rNT2",
        "colab": {
          "base_uri": "https://localhost:8080/",
          "height": 51
        },
        "outputId": "8ff51055-0d6a-479f-a387-82fb245917df"
      },
      "source": [
        "##### creating datset\n",
        "\n",
        "chemin=\"lfw_funneled/\"\n",
        "names=get_names(chemin) #liste tous les noms dans chemin\n",
        "sizes_=get_sizes(names) #récupére le nombre d'image pour chaque nom\n",
        "N_names_above=get_names_N(names,sizes_,100) #liste tous les noms dont le nombre d'images >=N\n",
        "X,y=create_dataset_N(N_names_above,100) #crée une dataset d'images sans LBP de taille N pour chaque label [create_dataset_N(N_Names,taille)]\n",
        "\n",
        "\n",
        "##### train test split\n",
        "X_train,X_test,y_train,y_test=train_test_split(X, y, test_size=0.33, random_state=42)\n",
        "\n",
        "##### training the model\n",
        "\n",
        "clf = SVC(kernel=\"rbf\",gamma=\"scale\")\n",
        "clf.fit(X_train, y_train)\n",
        "\n",
        "\n",
        "\n",
        "##### prediction\n",
        "\n",
        "y_pred = clf.predict(X_test)\n",
        "print(\"Accuracy: \"+str(accuracy_score(y_test, y_pred)))"
      ],
      "execution_count": null,
      "outputs": [
        {
          "output_type": "stream",
          "text": [
            "Accuracy: 1.0\n",
            "time: 9min 48s\n"
          ],
          "name": "stdout"
        }
      ]
    },
    {
      "cell_type": "code",
      "metadata": {
        "id": "eN9YLnriAp39",
        "colab": {
          "base_uri": "https://localhost:8080/",
          "height": 51
        },
        "outputId": "e6e1a325-03e1-4a45-b702-4c02e8f7f401"
      },
      "source": [
        "chemin=\"lfw_funneled/\"\n",
        "names=get_names(chemin) #liste tous les noms dans chemin\n",
        "sizes_=get_sizes(names)\n",
        "moy=0\n",
        "for size in sizes_:\n",
        "  moy=moy+size\n",
        "moy=moy/len(sizes_)\n",
        "print(moy)"
      ],
      "execution_count": null,
      "outputs": [
        {
          "output_type": "stream",
          "text": [
            "2.301791615933206\n",
            "time: 87.7 ms\n"
          ],
          "name": "stdout"
        }
      ]
    },
    {
      "cell_type": "markdown",
      "metadata": {
        "id": "dANfcbtUCRYh"
      },
      "source": [
        "**With PCA / Standarization**"
      ]
    },
    {
      "cell_type": "code",
      "metadata": {
        "id": "joXYVSijukt4",
        "colab": {
          "base_uri": "https://localhost:8080/",
          "height": 51
        },
        "outputId": "45c0e64a-6c5b-4567-c35f-91041b71fb48"
      },
      "source": [
        "\n",
        "X_train1 = StandardScaler().fit_transform(X_train)\n",
        "X_test1=StandardScaler().fit_transform(X_test)\n",
        "\n",
        "\n",
        "# Make an instance of the Model\n",
        "pca = PCA(.95)\n",
        "pca.fit(X_train1)\n",
        "\n",
        "X_train1 = pca.transform(X_train1)\n",
        "X_test1 = pca.transform(X_test1)\n",
        "\n",
        "\n",
        "clf = SVC(kernel=\"rbf\",gamma=\"scale\")\n",
        "clf.fit(X_train1, y_train)\n",
        "\n",
        "\n",
        "\n",
        "##### prediction\n",
        "\n",
        "y_pred = clf.predict(X_test1)\n",
        "print(\"Accuracy: \"+str(accuracy_score(y_test, y_pred)))"
      ],
      "execution_count": null,
      "outputs": [
        {
          "output_type": "stream",
          "text": [
            "Accuracy: 1.0\n",
            "time: 2min 45s\n"
          ],
          "name": "stdout"
        }
      ]
    },
    {
      "cell_type": "markdown",
      "metadata": {
        "id": "5HP-Pd9rKhAN"
      },
      "source": [
        "**Conclusion** : use of PCA is a time saver"
      ]
    },
    {
      "cell_type": "markdown",
      "metadata": {
        "id": "NE_NWb-nKweE"
      },
      "source": [
        "# Testing with the augmented dataset \n",
        "**(balanced with 100 images for each class 106 classes)**"
      ]
    },
    {
      "cell_type": "markdown",
      "metadata": {
        "id": "GBWRcaX4CgdA"
      },
      "source": [
        "**Creating an augmented dataset**\n"
      ]
    },
    {
      "cell_type": "code",
      "metadata": {
        "colab": {
          "base_uri": "https://localhost:8080/"
        },
        "id": "TEygIOsTnM3Y",
        "outputId": "be64b9d0-63f3-435e-b0f6-ef33a87f1fd3"
      },
      "source": [
        "cd .."
      ],
      "execution_count": null,
      "outputs": [
        {
          "output_type": "stream",
          "text": [
            "/content/dataset\n",
            "time: 4.15 ms\n"
          ],
          "name": "stdout"
        }
      ]
    },
    {
      "cell_type": "code",
      "metadata": {
        "id": "2j4GDjcGDqK-",
        "colab": {
          "base_uri": "https://localhost:8080/"
        },
        "outputId": "7c46d370-046f-4e81-a4c6-4536abc00217"
      },
      "source": [
        "def augment(aug_names,aug_sizes,N):\n",
        "  n=1\n",
        "  for name in aug_names:\n",
        "    taille=0\n",
        "    path=chemin+\"/\"+name\n",
        "    p=os.listdir(path)\n",
        "    ind_name=aug_names.index(name)\n",
        "    taille=aug_sizes[ind_name]\n",
        "    taille_init=taille\n",
        "    while(taille<=N):\n",
        "      for im in p:\n",
        "        im_path=path+\"/\"+im\n",
        "        img = load_img(im_path)\n",
        "        data = img_to_array(img)# convert to numpy array\n",
        "        samples = expand_dims(data, 0)# expand dimension to one sample\n",
        "        datagen = ImageDataGenerator(zoom_range=[0.7,0.8],rotation_range=90)# create image data augmentation generator\n",
        "        it = datagen.flow(samples, batch_size=1)# prepare iterator\n",
        "        batch = it.next()\n",
        "        image = batch[0].astype('uint8')\n",
        "        \n",
        "        save_path=path+\"/\"+im[:-4]+str(taille)+\"_aug.jpg\"\n",
        "        image_gray=cv2.cvtColor(image,cv2.COLOR_RGB2BGR)\n",
        "        cv2.imwrite(save_path, image_gray) \n",
        "        #im.save(save_path)\n",
        "        taille=taille+1\n",
        "        if taille>N:\n",
        "          break\n",
        "    print(\"file :\"+name+\" augmented initial size: \"+str(taille_init)+\" Current size: \"+str(taille)+\" remaining: \"+str(len(aug_names)-n))\n",
        "\n",
        "    n=n+1\n"
      ],
      "execution_count": null,
      "outputs": [
        {
          "output_type": "stream",
          "text": [
            "time: 12.7 ms\n"
          ],
          "name": "stdout"
        }
      ]
    },
    {
      "cell_type": "code",
      "metadata": {
        "id": "XE_PRHWG4lHQ",
        "colab": {
          "base_uri": "https://localhost:8080/"
        },
        "outputId": "76d47019-5eae-4039-f810-76519345e247"
      },
      "source": [
        "chemin=\"lfw_funneled\"\n",
        "names=get_names(chemin)\n",
        "sizes=get_sizes(names)\n",
        "aug_names,aug_sizes=get_names_above_N(names,sizes,14)\n",
        "#Returns a list of 106 elements\n",
        "augment(aug_names,aug_sizes,50)"
      ],
      "execution_count": null,
      "outputs": [
        {
          "output_type": "stream",
          "text": [
            "file :Britney_Spears augmented initial size: 14 Current size: 51 remaining: 105\n",
            "file :Hamid_Karzai augmented initial size: 22 Current size: 51 remaining: 104\n",
            "file :Hans_Blix augmented initial size: 39 Current size: 51 remaining: 103\n",
            "file :Pierce_Brosnan augmented initial size: 15 Current size: 51 remaining: 102\n",
            "file :Britney_Spears augmented initial size: 14 Current size: 51 remaining: 101\n",
            "file :Colin_Powell augmented initial size: 236 Current size: 236 remaining: 100\n",
            "file :Spencer_Abraham augmented initial size: 17 Current size: 51 remaining: 99\n",
            "file :Jeremy_Greenstock augmented initial size: 24 Current size: 51 remaining: 98\n",
            "file :Britney_Spears augmented initial size: 14 Current size: 51 remaining: 97\n",
            "file :Jeremy_Greenstock augmented initial size: 24 Current size: 51 remaining: 96\n",
            "file :Fidel_Castro augmented initial size: 18 Current size: 51 remaining: 95\n",
            "file :Pierce_Brosnan augmented initial size: 15 Current size: 51 remaining: 94\n",
            "file :Joschka_Fischer augmented initial size: 19 Current size: 51 remaining: 93\n",
            "file :Luiz_Inacio_Lula_da_Silva augmented initial size: 48 Current size: 51 remaining: 92\n",
            "file :David_Beckham augmented initial size: 31 Current size: 51 remaining: 91\n",
            "file :Igor_Ivanov augmented initial size: 20 Current size: 51 remaining: 90\n",
            "file :Tony_Blair augmented initial size: 144 Current size: 144 remaining: 89\n",
            "file :Tommy_Franks augmented initial size: 16 Current size: 51 remaining: 88\n",
            "file :Igor_Ivanov augmented initial size: 20 Current size: 51 remaining: 87\n",
            "file :Alvaro_Uribe augmented initial size: 35 Current size: 51 remaining: 86\n",
            "file :Pierce_Brosnan augmented initial size: 15 Current size: 51 remaining: 85\n",
            "file :Jennifer_Lopez augmented initial size: 21 Current size: 51 remaining: 84\n",
            "file :Spencer_Abraham augmented initial size: 17 Current size: 51 remaining: 83\n",
            "file :Hamid_Karzai augmented initial size: 22 Current size: 51 remaining: 82\n",
            "file :Gerhard_Schroeder augmented initial size: 109 Current size: 109 remaining: 81\n",
            "file :Jean_Chretien augmented initial size: 55 Current size: 55 remaining: 80\n",
            "file :Spencer_Abraham augmented initial size: 17 Current size: 51 remaining: 79\n",
            "file :Britney_Spears augmented initial size: 14 Current size: 51 remaining: 78\n",
            "file :Mahmoud_Abbas augmented initial size: 29 Current size: 51 remaining: 77\n",
            "file :Britney_Spears augmented initial size: 14 Current size: 51 remaining: 76\n",
            "file :Kofi_Annan augmented initial size: 32 Current size: 51 remaining: 75\n",
            "file :Fidel_Castro augmented initial size: 18 Current size: 51 remaining: 74\n",
            "file :Jennifer_Lopez augmented initial size: 21 Current size: 51 remaining: 73\n",
            "file :Mahmoud_Abbas augmented initial size: 29 Current size: 51 remaining: 72\n",
            "file :Fidel_Castro augmented initial size: 18 Current size: 51 remaining: 71\n",
            "file :Jacques_Chirac augmented initial size: 52 Current size: 52 remaining: 70\n",
            "file :Spencer_Abraham augmented initial size: 17 Current size: 51 remaining: 69\n",
            "file :Pierce_Brosnan augmented initial size: 15 Current size: 51 remaining: 68\n",
            "file :Guillermo_Coria augmented initial size: 30 Current size: 51 remaining: 67\n",
            "file :Jennifer_Lopez augmented initial size: 21 Current size: 51 remaining: 66\n",
            "file :Joschka_Fischer augmented initial size: 19 Current size: 51 remaining: 65\n",
            "file :Hamid_Karzai augmented initial size: 22 Current size: 51 remaining: 64\n",
            "file :Gloria_Macapagal_Arroyo augmented initial size: 44 Current size: 51 remaining: 63\n",
            "file :Joschka_Fischer augmented initial size: 19 Current size: 51 remaining: 62\n",
            "file :Juan_Carlos_Ferrero augmented initial size: 28 Current size: 51 remaining: 61\n",
            "file :Andre_Agassi augmented initial size: 36 Current size: 51 remaining: 60\n",
            "file :Pierce_Brosnan augmented initial size: 15 Current size: 51 remaining: 59\n",
            "file :Fidel_Castro augmented initial size: 18 Current size: 51 remaining: 58\n",
            "file :Britney_Spears augmented initial size: 14 Current size: 51 remaining: 57\n",
            "file :Pierce_Brosnan augmented initial size: 15 Current size: 51 remaining: 56\n",
            "file :Pierce_Brosnan augmented initial size: 15 Current size: 51 remaining: 55\n",
            "file :Tommy_Franks augmented initial size: 16 Current size: 51 remaining: 54\n",
            "file :Saddam_Hussein augmented initial size: 23 Current size: 51 remaining: 53\n",
            "file :Saddam_Hussein augmented initial size: 23 Current size: 51 remaining: 52\n",
            "file :Laura_Bush augmented initial size: 41 Current size: 51 remaining: 51\n",
            "file :Hugo_Chavez augmented initial size: 71 Current size: 71 remaining: 50\n",
            "file :Pierce_Brosnan augmented initial size: 15 Current size: 51 remaining: 49\n",
            "file :Ariel_Sharon augmented initial size: 77 Current size: 77 remaining: 48\n",
            "file :Saddam_Hussein augmented initial size: 23 Current size: 51 remaining: 47\n",
            "file :Jacques_Chirac augmented initial size: 52 Current size: 52 remaining: 46\n",
            "file :Megawati_Sukarnoputri augmented initial size: 33 Current size: 51 remaining: 45\n",
            "file :Pierce_Brosnan augmented initial size: 15 Current size: 51 remaining: 44\n",
            "file :Joschka_Fischer augmented initial size: 19 Current size: 51 remaining: 43\n",
            "file :Junichiro_Koizumi augmented initial size: 60 Current size: 60 remaining: 42\n",
            "file :John_Ashcroft augmented initial size: 53 Current size: 53 remaining: 41\n",
            "file :Britney_Spears augmented initial size: 14 Current size: 51 remaining: 40\n",
            "file :Pierce_Brosnan augmented initial size: 15 Current size: 51 remaining: 39\n",
            "file :Guillermo_Coria augmented initial size: 30 Current size: 51 remaining: 38\n",
            "file :Juan_Carlos_Ferrero augmented initial size: 28 Current size: 51 remaining: 37\n",
            "file :Tommy_Franks augmented initial size: 16 Current size: 51 remaining: 36\n",
            "file :Arnold_Schwarzenegger augmented initial size: 42 Current size: 51 remaining: 35\n",
            "file :Igor_Ivanov augmented initial size: 20 Current size: 51 remaining: 34\n",
            "file :Spencer_Abraham augmented initial size: 17 Current size: 51 remaining: 33\n",
            "file :George_W_Bush augmented initial size: 530 Current size: 530 remaining: 32\n",
            "file :Jennifer_Lopez augmented initial size: 21 Current size: 51 remaining: 31\n",
            "file :Kofi_Annan augmented initial size: 32 Current size: 51 remaining: 30\n",
            "file :Hamid_Karzai augmented initial size: 22 Current size: 51 remaining: 29\n",
            "file :Megawati_Sukarnoputri augmented initial size: 33 Current size: 51 remaining: 28\n",
            "file :Spencer_Abraham augmented initial size: 17 Current size: 51 remaining: 27\n",
            "file :Hamid_Karzai augmented initial size: 22 Current size: 51 remaining: 26\n",
            "file :Arnold_Schwarzenegger augmented initial size: 42 Current size: 51 remaining: 25\n",
            "file :Hans_Blix augmented initial size: 39 Current size: 51 remaining: 24\n",
            "file :Fidel_Castro augmented initial size: 18 Current size: 51 remaining: 23\n",
            "file :Britney_Spears augmented initial size: 14 Current size: 51 remaining: 22\n",
            "file :Spencer_Abraham augmented initial size: 17 Current size: 51 remaining: 21\n",
            "file :Vladimir_Putin augmented initial size: 49 Current size: 51 remaining: 20\n",
            "file :Britney_Spears augmented initial size: 14 Current size: 51 remaining: 19\n",
            "file :Igor_Ivanov augmented initial size: 20 Current size: 51 remaining: 18\n",
            "file :Megawati_Sukarnoputri augmented initial size: 33 Current size: 51 remaining: 17\n",
            "file :Gray_Davis augmented initial size: 26 Current size: 51 remaining: 16\n",
            "file :Gray_Davis augmented initial size: 26 Current size: 51 remaining: 15\n",
            "file :Igor_Ivanov augmented initial size: 20 Current size: 51 remaining: 14\n",
            "file :Nestor_Kirchner augmented initial size: 37 Current size: 51 remaining: 13\n",
            "file :David_Beckham augmented initial size: 31 Current size: 51 remaining: 12\n",
            "file :Joschka_Fischer augmented initial size: 19 Current size: 51 remaining: 11\n",
            "file :Joschka_Fischer augmented initial size: 19 Current size: 51 remaining: 10\n",
            "file :Ricardo_Lagos augmented initial size: 27 Current size: 51 remaining: 9\n",
            "file :Tom_Daschle augmented initial size: 25 Current size: 51 remaining: 8\n",
            "file :Laura_Bush augmented initial size: 41 Current size: 51 remaining: 7\n",
            "file :Kofi_Annan augmented initial size: 32 Current size: 51 remaining: 6\n",
            "file :Donald_Rumsfeld augmented initial size: 121 Current size: 121 remaining: 5\n",
            "file :Joschka_Fischer augmented initial size: 19 Current size: 51 remaining: 4\n",
            "file :Pierce_Brosnan augmented initial size: 15 Current size: 51 remaining: 3\n",
            "file :Jeremy_Greenstock augmented initial size: 24 Current size: 51 remaining: 2\n",
            "file :Britney_Spears augmented initial size: 14 Current size: 51 remaining: 1\n",
            "file :Spencer_Abraham augmented initial size: 17 Current size: 51 remaining: 0\n",
            "time: 34.1 s\n"
          ],
          "name": "stdout"
        }
      ]
    },
    {
      "cell_type": "code",
      "metadata": {
        "id": "HHbZSUHIVIxq",
        "colab": {
          "base_uri": "https://localhost:8080/",
          "height": 51
        },
        "outputId": "7fcb6057-19aa-4284-c57b-0e64708e2e6f"
      },
      "source": [
        "chemin=\"lfw_funneled\"\n",
        "names=get_names(chemin)\n",
        "sizes=get_sizes(names)\n",
        "names_above,sizes_above=get_names_above_N(names,sizes,100)\n",
        "moy=0\n",
        "for size in sizes_above:\n",
        "  moy=moy+size\n",
        "moy=moy/len(sizes_above)\n",
        "print(moy)"
      ],
      "execution_count": null,
      "outputs": [
        {
          "output_type": "stream",
          "text": [
            "205.75\n",
            "time: 82.3 ms\n"
          ],
          "name": "stdout"
        }
      ]
    },
    {
      "cell_type": "markdown",
      "metadata": {
        "id": "Icaz607OLAIO"
      },
      "source": [
        "**Without LBP**"
      ]
    },
    {
      "cell_type": "markdown",
      "metadata": {
        "id": "5kh4vLMFtJ1P"
      },
      "source": [
        "at this step, we had memory issues, as the creation of the augmented dataset was using all the available RAM, as a result , the notebook crashes. we thought of reducing the size of the images but that didn't work either, now we're gonna try to use histograms as inputs for our models."
      ]
    },
    {
      "cell_type": "markdown",
      "metadata": {
        "id": "h-sRvdxOhuLM"
      },
      "source": [
        "update : le problème persiste, la seule solution est de réduire la dataset..."
      ]
    },
    {
      "cell_type": "code",
      "metadata": {
        "id": "pBsPuk1VzWFE",
        "colab": {
          "base_uri": "https://localhost:8080/",
          "height": 51
        },
        "outputId": "bfae66cd-c1c8-4573-87cd-9c12c6ce97fe"
      },
      "source": [
        "#SVM without LBP\n",
        "names=get_names(chemin)\n",
        "sizes=get_sizes(names)\n",
        "N_names_above,N_sizes_above=get_names_above_N(names,sizes,100)\n",
        "X,y=create_dataset_N(N_names_above,100)\n",
        "\n",
        "X_train,X_test,y_train,y_test=train_test_split(X, y, test_size=0.33, random_state=42)\n",
        "\n",
        "X_train = StandardScaler().fit_transform(X_train)\n",
        "X_test=StandardScaler().fit_transform(X_test)\n",
        "\n",
        "\n",
        "# Make an instance of the Model\n",
        "pca = PCA(.95)\n",
        "pca.fit(X_train)\n",
        "\n",
        "X_train = pca.transform(X_train)\n",
        "X_test = pca.transform(X_test)\n",
        "\n",
        "\n",
        "clf = SVC(kernel=\"rbf\",gamma=\"scale\")\n",
        "clf.fit(X_train, y_train)\n",
        "\n",
        "\n",
        "\n",
        "##### prediction\n",
        "\n",
        "y_pred = clf.predict(X_test)\n",
        "print(\"Accuracy: \"+str(accuracy_score(y_test, y_pred)))"
      ],
      "execution_count": null,
      "outputs": [
        {
          "output_type": "stream",
          "text": [
            "Accuracy: 1.0\n",
            "time: 25min 6s\n"
          ],
          "name": "stdout"
        }
      ]
    },
    {
      "cell_type": "markdown",
      "metadata": {
        "id": "4q9hsBvk4PpJ"
      },
      "source": [
        "overfitting ?"
      ]
    },
    {
      "cell_type": "markdown",
      "metadata": {
        "id": "M4pUld45rUTo"
      },
      "source": [
        "**With LBP**"
      ]
    },
    {
      "cell_type": "code",
      "metadata": {
        "id": "ubjv7WUIreXb",
        "colab": {
          "base_uri": "https://localhost:8080/",
          "height": 51
        },
        "outputId": "3f8cdafb-1e0a-412b-90fc-e53baab0344f"
      },
      "source": [
        "#SVM with LBP\n",
        "\n",
        "\n",
        "names=get_names(chemin)\n",
        "sizes=get_sizes(names)\n",
        "N_names_above,N_sizes_above=get_names_above_N(names,sizes,100)\n",
        "X,y=create_dataset_LBP_N(N_names_above,100)\n",
        "\n",
        "\n",
        "X_train1,X_test1,y_train,y_test=train_test_split(X, y, test_size=0.33, random_state=42)\n",
        "\n",
        "X_train1 = StandardScaler().fit_transform(X_train1)\n",
        "X_test1=StandardScaler().fit_transform(X_test1)\n",
        "\n",
        "\n",
        "# Make an instance of the Model\n",
        "pca = PCA(.95)\n",
        "pca.fit(X_train1)\n",
        "\n",
        "X_train1 = pca.transform(X_train1)\n",
        "X_test1 = pca.transform(X_test1)\n",
        "\n",
        "\n",
        "clf = SVC(kernel=\"rbf\",gamma=\"scale\")\n",
        "clf.fit(X_train1, y_train)\n",
        "\n",
        "\n",
        "\n",
        "##### prediction\n",
        "\n",
        "y_pred1 = clf.predict(X_test1)\n",
        "print(\"Accuracy: \"+str(accuracy_score(y_test, y_pred1)))"
      ],
      "execution_count": null,
      "outputs": [
        {
          "output_type": "stream",
          "text": [
            "Accuracy: 1.0\n",
            "time: 50min 34s\n"
          ],
          "name": "stdout"
        }
      ]
    },
    {
      "cell_type": "markdown",
      "metadata": {
        "id": "wkcssraF7HCj"
      },
      "source": [
        "over-fitting confirmed, the data augmentation is worthless, maybe we should consider using GAN"
      ]
    },
    {
      "cell_type": "markdown",
      "metadata": {
        "id": "FQq_O9Mn4jSA"
      },
      "source": [
        "**ANN**"
      ]
    },
    {
      "cell_type": "code",
      "metadata": {
        "id": "WdUr26dc4cdQ"
      },
      "source": [
        "################## ANN WITH LPB  ##################\"\"\"\"\n",
        "names=get_names(chemin)\n",
        "sizes=get_sizes(names)\n",
        "N_names_above,N_sizes_above=get_names_above_N(names,sizes,100)\n",
        "X,y=create_dataset_LBP_N(N_names_above,100)\n",
        "\n",
        "\n",
        "X_train1,X_test1,y_train,y_test=train_test_split(X, y, test_size=0.33, random_state=42)\n",
        "\n",
        "X_train1 = StandardScaler().fit_transform(X_train1)\n",
        "X_test1=StandardScaler().fit_transform(X_test1)\n",
        "\n",
        "\n",
        "# Make an instance of the Model\n",
        "pca = PCA(.95)\n",
        "pca.fit(X_train1)\n",
        "\n",
        "X_train1 = pca.transform(X_train1)\n",
        "X_test1 = pca.transform(X_test1)\n",
        "\n",
        "i=25\n",
        "j=27\n",
        "k=28\n",
        "clf = MLPClassifier(solver='sgd', alpha=1e-5, hidden_layer_sizes=(i, j, k), random_state=1)\n",
        "print (\"processing: \", i, ' ', j, ' ', k)\n",
        "clf.fit(X_train1, y_train)\n",
        "predicted = clf.predict(X_test1)\n",
        "#print(predicted)\n",
        "#print(y_test)\n",
        "accuracy = accuracy_score(y_test, predicted)\n",
        "print(\"acc \", accuracy)\n"
      ],
      "execution_count": null,
      "outputs": []
    },
    {
      "cell_type": "code",
      "metadata": {
        "id": "Vm0kiwWQ9Zp4"
      },
      "source": [
        "#SVM without LBP\n",
        "names=get_names(chemin)\n",
        "sizes=get_sizes(names)\n",
        "N_names_above,N_sizes_above=get_names_above_N(names,sizes,100)\n",
        "X,y=create_dataset_N(N_names_above,100)\n",
        "\n",
        "X_train,X_test,y_train,y_test=train_test_split(X, y, test_size=0.33, random_state=42)\n",
        "\n",
        "X_train = StandardScaler().fit_transform(X_train)\n",
        "X_test=StandardScaler().fit_transform(X_test)\n",
        "\n",
        "\n",
        "# Make an instance of the Model\n",
        "pca = PCA(.95)\n",
        "pca.fit(X_train)\n",
        "\n",
        "X_train = pca.transform(X_train)\n",
        "X_test = pca.transform(X_test)\n",
        "best_accuracary = 0\n",
        "best_architecture = (0, 0, 0)\n",
        "for i in range (25, 31):\n",
        "  for j in range (25, 31):\n",
        "    for k in range (25, 31):\n",
        "      clf = MLPClassifier(solver='sgd', alpha=1e-5, hidden_layer_sizes=(i, j, k), random_state=1)\n",
        "      print (\"processing: \", i, ' ', j, ' ', k)\n",
        "      clf.fit(X_train, y_train)\n",
        "      predicted = clf.predict(X_test)\n",
        "      #print(predicted)\n",
        "      #print(y_test)\n",
        "      accuracy = accuracy_score(y_test, predicted)\n",
        "      print(\"acc \", accuracy)\n",
        "      if (accuracy > best_accuracary):\n",
        "        best_accuracary = accuracy\n",
        "        best_architecture = (i, j, k)\n",
        "        print(\"current best:  acc = \", best_accuracary, \"   arch = \", best_architecture)"
      ],
      "execution_count": null,
      "outputs": []
    },
    {
      "cell_type": "markdown",
      "metadata": {
        "id": "DaxghnV4E5Ub"
      },
      "source": [
        "#original dataset (No augmentation)\n"
      ]
    },
    {
      "cell_type": "markdown",
      "metadata": {
        "id": "aAvq4jhSGd8H"
      },
      "source": [
        "**Without LBP**"
      ]
    },
    {
      "cell_type": "code",
      "metadata": {
        "id": "puUmMcZjFEVW"
      },
      "source": [
        "chemin=\"lfw_funneled\"\n",
        "names=get_names(chemin)\n",
        "sizes=get_sizes(names)\n",
        "aug_names,aug_sizes=get_names_above_N(names,sizes,50)\n",
        "X,y=create_dataset_N(aug_names,50)\n",
        "X_train,X_test,y_train,y_test=train_test_split(X, y, test_size=0.33, random_state=42)\n",
        "\n",
        "X_train = StandardScaler().fit_transform(X_train)\n",
        "X_test=StandardScaler().fit_transform(X_test)\n",
        "\n",
        "\n",
        "# Make an instance of the Model\n",
        "pca = PCA(.95)\n",
        "pca.fit(X_train)\n",
        "\n",
        "X_train = pca.transform(X_train)\n",
        "X_test = pca.transform(X_test)"
      ],
      "execution_count": null,
      "outputs": []
    },
    {
      "cell_type": "code",
      "metadata": {
        "id": "K_y_dWEMJrLS",
        "colab": {
          "base_uri": "https://localhost:8080/",
          "height": 51
        },
        "outputId": "8aa3128e-a001-4fac-e076-09ae595ee112"
      },
      "source": [
        "clf = SVC(kernel=\"rbf\",gamma=\"scale\")\n",
        "clf.fit(X_train, y_train)\n",
        "\n",
        "\n",
        "\n",
        "##### prediction\n",
        "\n",
        "y_pred2 = clf.predict(X_test)\n",
        "print(\"Accuracy: \"+str(accuracy_score(y_test, y_pred2)))"
      ],
      "execution_count": null,
      "outputs": [
        {
          "output_type": "stream",
          "text": [
            "Accuracy: 0.999932771979361\n",
            "time: 1min 7s\n"
          ],
          "name": "stdout"
        }
      ]
    },
    {
      "cell_type": "markdown",
      "metadata": {
        "id": "f4EquGgTdCB6"
      },
      "source": [
        "**Résultat SVM sans lbp**\n",
        "\n",
        "\n",
        "\n",
        "**Accuracy**: 0.9999942370752004\n",
        "\n",
        "time: 3min 19s"
      ]
    },
    {
      "cell_type": "code",
      "metadata": {
        "id": "ytnaJqRqK5QU",
        "colab": {
          "base_uri": "https://localhost:8080/",
          "height": 1000
        },
        "outputId": "05dc27f9-d334-4c53-a126-69d00f10656b"
      },
      "source": [
        "best_accuracary = 0\n",
        "best_architecture = (0, 0, 0)\n",
        "\n",
        "for i in range (25, 26):\n",
        "  for j in range (25, 31):\n",
        "    for k in range (25, 31):\n",
        "      clf = MLPClassifier(solver='sgd', alpha=1e-5, hidden_layer_sizes=(i, j, k), random_state=1)\n",
        "      print (\"processing: \", i, ' ', j, ' ', k)\n",
        "      clf.fit(X_train, y_train)\n",
        "      predicted3 = clf.predict(X_test)\n",
        "      #print(predicted)\n",
        "      #print(y_test)\n",
        "      accuracy = accuracy_score(y_test, predicted3)\n",
        "      print(\"acc \", accuracy)\n",
        "      if (accuracy > best_accuracary):\n",
        "        best_accuracary = accuracy\n",
        "        best_architecture = (i, j, k)\n",
        "        print(\"current best:  acc = \", best_accuracary, \"   arch = \", best_architecture)"
      ],
      "execution_count": null,
      "outputs": [
        {
          "output_type": "stream",
          "text": [
            "processing:  25   25   25\n",
            "acc  0.9999538966016033\n",
            "current best:  acc =  0.9999538966016033    arch =  (25, 25, 25)\n",
            "processing:  25   25   26\n",
            "acc  0.999971185376002\n",
            "current best:  acc =  0.999971185376002    arch =  (25, 25, 26)\n",
            "processing:  25   25   27\n",
            "acc  0.9999769483008016\n",
            "current best:  acc =  0.9999769483008016    arch =  (25, 25, 27)\n",
            "processing:  25   25   28\n",
            "acc  0.999971185376002\n",
            "processing:  25   25   29\n",
            "acc  0.9999538966016033\n",
            "processing:  25   25   30\n",
            "acc  0.9999481336768037\n",
            "processing:  25   26   25\n",
            "acc  0.9999481336768037\n",
            "processing:  25   26   26\n",
            "acc  0.9999481336768037\n",
            "processing:  25   26   27\n",
            "acc  0.9999481336768037\n",
            "processing:  25   26   28\n",
            "acc  0.9999769483008016\n",
            "processing:  25   26   29\n",
            "acc  0.9999596595264029\n",
            "processing:  25   26   30\n",
            "acc  0.999971185376002\n",
            "processing:  25   27   25\n",
            "acc  0.999971185376002\n",
            "processing:  25   27   26\n",
            "acc  0.9999423707520041\n",
            "processing:  25   27   27\n",
            "acc  0.999971185376002\n",
            "processing:  25   27   28\n",
            "acc  0.9999942370752004\n",
            "current best:  acc =  0.9999942370752004    arch =  (25, 27, 28)\n",
            "processing:  25   27   29\n",
            "acc  0.9999596595264029\n",
            "processing:  25   27   30\n",
            "acc  0.9999654224512025\n",
            "processing:  25   28   25\n",
            "acc  0.9999942370752004\n",
            "processing:  25   28   26\n",
            "acc  0.9999769483008016\n",
            "processing:  25   28   27\n",
            "acc  0.999971185376002\n",
            "processing:  25   28   28\n",
            "acc  0.9998789785792085\n",
            "processing:  25   28   29\n",
            "acc  0.999971185376002\n",
            "processing:  25   28   30\n",
            "acc  0.999971185376002\n",
            "processing:  25   29   25\n",
            "acc  0.9999596595264029\n",
            "processing:  25   29   26\n",
            "acc  0.9999308449024049\n",
            "processing:  25   29   27\n",
            "acc  0.9999423707520041\n",
            "processing:  25   29   28\n",
            "acc  0.9999538966016033\n",
            "processing:  25   29   29\n",
            "acc  0.9999538966016033\n",
            "processing:  25   29   30\n",
            "acc  0.9999481336768037\n",
            "processing:  25   30   25\n",
            "acc  0.9999538966016033\n",
            "processing:  25   30   26\n",
            "acc  0.9999481336768037\n",
            "processing:  25   30   27\n",
            "acc  0.9999250819776053\n",
            "processing:  25   30   28\n",
            "acc  0.9999481336768037\n",
            "processing:  25   30   29\n",
            "acc  0.9999481336768037\n",
            "processing:  25   30   30\n",
            "acc  0.9999654224512025\n",
            "time: 1h 25min 5s\n"
          ],
          "name": "stdout"
        }
      ]
    },
    {
      "cell_type": "markdown",
      "metadata": {
        "id": "ixODPJbHopRw"
      },
      "source": [
        "**Résultat ANN sans lbp**\n",
        "\n",
        "\n",
        "**ACCURACY**: 0.9999942370752004\n",
        "\n",
        "best architecture: (25, 27, 28)\n"
      ]
    },
    {
      "cell_type": "markdown",
      "metadata": {
        "id": "iZ13xFpgG5V7"
      },
      "source": [
        "**LBP**"
      ]
    },
    {
      "cell_type": "code",
      "metadata": {
        "id": "cluhxIxLG2pE",
        "colab": {
          "base_uri": "https://localhost:8080/",
          "height": 34
        },
        "outputId": "8c05e829-3d43-4f11-ff65-eef952861598"
      },
      "source": [
        "chemin=\"lfw_funneled\"\n",
        "names=get_names(chemin)\n",
        "sizes=get_sizes(names)\n",
        "N_names_above,N_sizes_above=get_names_above_N(names,sizes,25)\n",
        "\n",
        "X,y=create_dataset_LBP_N(N_names_above,25)\n",
        "\n",
        "\n",
        "X_train1,X_test1,y_train,y_test=train_test_split(X, y, test_size=0.33, random_state=42)\n",
        "\n",
        "X_train1 = StandardScaler().fit_transform(X_train1)\n",
        "X_test1=StandardScaler().fit_transform(X_test1)\n",
        "\n",
        "\n",
        "# Make an instance of the Model\n",
        "pca = PCA(.95)\n",
        "pca.fit(X_train1)\n",
        "\n",
        "X_train1 = pca.transform(X_train1)\n",
        "X_test1 = pca.transform(X_test1)\n"
      ],
      "execution_count": null,
      "outputs": [
        {
          "output_type": "stream",
          "text": [
            "time: 52.4 s\n"
          ],
          "name": "stdout"
        }
      ]
    },
    {
      "cell_type": "code",
      "metadata": {
        "id": "m8z3ZICvJybg",
        "colab": {
          "base_uri": "https://localhost:8080/",
          "height": 51
        },
        "outputId": "8eaa4299-e173-4830-ff10-fd1ecda992e0"
      },
      "source": [
        "clf = SVC(kernel=\"rbf\",gamma=\"scale\")\n",
        "clf.fit(X_train1, y_train)\n",
        "\n",
        "\n",
        "\n",
        "##### prediction\n",
        "\n",
        "y_pred3 = clf.predict(X_test1)\n",
        "print(\"Accuracy: \"+str(accuracy_score(y_test, y_pred3)))"
      ],
      "execution_count": null,
      "outputs": [
        {
          "output_type": "stream",
          "text": [
            "Accuracy: 0.999994508089584\n",
            "time: 7min 47s\n"
          ],
          "name": "stdout"
        }
      ]
    },
    {
      "cell_type": "code",
      "metadata": {
        "id": "UicY2nHp3Oyo",
        "colab": {
          "base_uri": "https://localhost:8080/",
          "height": 51
        },
        "outputId": "9ce0b9dc-dd03-47ba-84af-123c300a0c17"
      },
      "source": [
        "t=0\n",
        "for i in range(len(y_pred3)):\n",
        "  if y_pred3[i]!=y_test[i]:\n",
        "    t=t+1\n",
        "print(t)\n"
      ],
      "execution_count": null,
      "outputs": [
        {
          "output_type": "stream",
          "text": [
            "1\n",
            "time: 66.5 ms\n"
          ],
          "name": "stdout"
        }
      ]
    },
    {
      "cell_type": "code",
      "metadata": {
        "id": "rkMHT42C6izS"
      },
      "source": [
        "print(pred)"
      ],
      "execution_count": null,
      "outputs": []
    },
    {
      "cell_type": "markdown",
      "metadata": {
        "id": "yhtcXxZHw0KX"
      },
      "source": [
        "\n",
        "Accuracy: 0.9999615566270883\n",
        "\n",
        "time: 10min 33s"
      ]
    },
    {
      "cell_type": "code",
      "metadata": {
        "id": "ScNSRtdtKUaN",
        "colab": {
          "base_uri": "https://localhost:8080/",
          "height": 68
        },
        "outputId": "80453fac-f0f9-4cf9-94b6-650a77a7f715"
      },
      "source": [
        "\n",
        "\n",
        "i=25\n",
        "j=27\n",
        "k=28\n",
        "\n",
        "clf = MLPClassifier(solver='sgd', alpha=1e-5, hidden_layer_sizes=(i, j, k), random_state=1)\n",
        "print (\"processing: \", i, ' ', j, ' ', k)\n",
        "clf.fit(X_train1, y_train)\n",
        "predicted1 = clf.predict(X_test1)\n",
        "accuracy = accuracy_score(y_test, predicted1)\n",
        "print(\"acc \", accuracy)\n"
      ],
      "execution_count": null,
      "outputs": [
        {
          "output_type": "stream",
          "text": [
            "processing:  25   27   28\n",
            "acc  0.9999505728062564\n",
            "time: 2min 37s\n"
          ],
          "name": "stdout"
        }
      ]
    },
    {
      "cell_type": "markdown",
      "metadata": {
        "id": "unZCkqYiwqgo"
      },
      "source": [
        "acc  0.9999505728062564\n",
        "\n",
        "time: 2min 37s"
      ]
    }
  ]
}