{
  "nbformat": 4,
  "nbformat_minor": 0,
  "metadata": {
    "colab": {
      "name": "projet_AI_sklearn_data.ipynb",
      "provenance": [],
      "collapsed_sections": [],
      "toc_visible": true
    },
    "kernelspec": {
      "name": "python3",
      "display_name": "Python 3"
    }
  },
  "cells": [
    {
      "cell_type": "code",
      "metadata": {
        "id": "tLeRxxpu5gY6"
      },
      "source": [
        "from sklearn.datasets import fetch_lfw_people\n",
        "\n",
        "lfw_people = fetch_lfw_people(min_faces_per_person=50, resize=0.4)"
      ],
      "execution_count": null,
      "outputs": []
    },
    {
      "cell_type": "code",
      "metadata": {
        "id": "7WdXKWUK5xBv"
      },
      "source": [
        "import cv2\n",
        "from google.colab.patches import cv2_imshow\n",
        "from sklearn.model_selection import train_test_split\n",
        "# nombre d'images, hauteur, largeur\n",
        "n_samples, h, w = lfw_people.images.shape\n",
        "\n",
        "# X la base de donnee\n",
        "X = lfw_people.data\n",
        "n_features = X.shape[1]\n",
        "\n",
        "\n",
        "# les classes pour la classification\n",
        "y = lfw_people.target\n",
        "target_names = lfw_people.target_names\n",
        "n_classes = target_names.shape[0]\n",
        "\n",
        "X_train, X_test, y_train, y_test = train_test_split(\n",
        "    X, y, test_size=0.25, random_state=42)\n"
      ],
      "execution_count": null,
      "outputs": []
    },
    {
      "cell_type": "code",
      "metadata": {
        "id": "RDya6Ruj7Ptz",
        "colab": {
          "base_uri": "https://localhost:8080/",
          "height": 68
        },
        "outputId": "15b08726-df71-4659-c325-bb29a0050b86"
      },
      "source": [
        "#ANN Without LBP\n",
        "\n",
        "\n",
        "from sklearn.neural_network import MLPClassifier\n",
        "from sklearn.metrics import accuracy_score\n",
        "\n",
        "clf = MLPClassifier(solver='lbfgs', alpha=1e-5, hidden_layer_sizes=(32, 32, 16), random_state=1)\n",
        "\n",
        "best_accuracary = 0\n",
        "best_architecture = (0, 0, 0)\n",
        "\n",
        "for i in range (25, 31):\n",
        "  for j in range (25, 31):\n",
        "    for k in range (25, 31):\n",
        "      clf.fit(X_train, y_train)\n",
        "      predicted = clf.predict(X_test)\n",
        "      #print(predicted)\n",
        "      #print(y_test)\n",
        "      accuracy = accuracy_score(y_test, predicted)\n",
        "      if (accuracy > best_accuracary):\n",
        "        best_accuracary = accuracy\n",
        "        best_architecture = (i, j, k)\n",
        "        print(\"current best:  acc = \", best_accuracary, \"   arch = \", best_architecture)\n",
        "\n",
        "print('Best accuracy: ', best_accuracary)\n",
        "print('Best architecture: ', best_architecture)"
      ],
      "execution_count": null,
      "outputs": [
        {
          "output_type": "stream",
          "text": [
            "current best:  acc =  0.05128205128205128    arch =  (25, 25, 25)\n",
            "Best accuracy:  0.05128205128205128\n",
            "Best architecture:  (25, 25, 25)\n"
          ],
          "name": "stdout"
        }
      ]
    },
    {
      "cell_type": "code",
      "metadata": {
        "id": "JLSPwZWx-V_x",
        "colab": {
          "base_uri": "https://localhost:8080/",
          "height": 34
        },
        "outputId": "94b7bd0d-7fe4-4917-bda3-6b5c125fe79c"
      },
      "source": [
        "#SVM without LBP\n",
        "\n",
        "from sklearn.svm import SVC\n",
        "from sklearn.metrics import accuracy_score\n",
        "clf = SVC(kernel=\"rbf\",gamma=\"scale\")\n",
        "clf.fit(X_train, y_train)\n",
        "\n",
        "y_pred = clf.predict(X_test)\n",
        "print(\"Accuracy: \"+str(accuracy_score(y_test, y_pred)))\n"
      ],
      "execution_count": null,
      "outputs": [
        {
          "output_type": "stream",
          "text": [
            "Accuracy: 0.7153846153846154\n"
          ],
          "name": "stdout"
        }
      ]
    },
    {
      "cell_type": "code",
      "metadata": {
        "id": "KTMphFqm8Q4r"
      },
      "source": [
        "#ANN With LBP\n",
        "\n",
        "from skimage import feature\n",
        "import numpy as np \n",
        "\n",
        "X_LBP=[]\n",
        "for x in X:\n",
        "  t=x.reshape(h,w)\n",
        "  gray = feature.local_binary_pattern(t, 10, 5, method=\"default\")\n",
        "  X_LBP.append(gray)\n",
        "\n",
        "X_train, X_test, y_train, y_test = train_test_split(X_LBP, y, test_size=0.25, random_state=42)\n",
        "\n",
        "X_train = [np.concatenate(i) for i in X_train]\n",
        "\n",
        "X_test = [np.concatenate(i) for i in X_test]"
      ],
      "execution_count": null,
      "outputs": []
    },
    {
      "cell_type": "code",
      "metadata": {
        "id": "wQrEwwSR9wke",
        "colab": {
          "base_uri": "https://localhost:8080/",
          "height": 68
        },
        "outputId": "74b0b3d7-a243-40ab-cf94-6bf0e08b1c6e"
      },
      "source": [
        "from sklearn.neural_network import MLPClassifier\n",
        "from sklearn.metrics import accuracy_score\n",
        "\n",
        "clf = MLPClassifier(solver='lbfgs', alpha=1e-5, hidden_layer_sizes=(32, 32, 16), random_state=1)\n",
        "\n",
        "best_accuracary = 0\n",
        "best_architecture = (0, 0, 0)\n",
        "\n",
        "for i in range (25, 31):\n",
        "  for j in range (25, 31):\n",
        "    for k in range (25, 31):\n",
        "      clf.fit(X_train, y_train)\n",
        "      predicted = clf.predict(X_test)\n",
        "      #print(predicted)\n",
        "      #print(y_test)\n",
        "      accuracy = accuracy_score(y_test, predicted)\n",
        "      if (accuracy > best_accuracary):\n",
        "        best_accuracary = accuracy\n",
        "        best_architecture = (i, j, k)\n",
        "        print(\"current best:  acc = \", best_accuracary, \"   arch = \", best_architecture)\n",
        "\n",
        "print('Best accuracy: ', best_accuracary)\n",
        "print('Best architecture: ', best_architecture)"
      ],
      "execution_count": null,
      "outputs": [
        {
          "output_type": "stream",
          "text": [
            "current best:  acc =  0.017948717948717947    arch =  (25, 25, 25)\n",
            "Best accuracy:  0.017948717948717947\n",
            "Best architecture:  (25, 25, 25)\n"
          ],
          "name": "stdout"
        }
      ]
    },
    {
      "cell_type": "code",
      "metadata": {
        "id": "970F5Vc6-OdY",
        "colab": {
          "base_uri": "https://localhost:8080/",
          "height": 34
        },
        "outputId": "8f7828ee-c16b-4b42-e80a-65cfa7f5a9fa"
      },
      "source": [
        "#SVM with LBP\n",
        "\n",
        "from sklearn.svm import SVC\n",
        "from sklearn.metrics import accuracy_score\n",
        "clf = SVC(kernel=\"rbf\",gamma=\"scale\")\n",
        "clf.fit(X_train, y_train)\n",
        "\n",
        "y_pred = clf.predict(X_test)\n",
        "print(\"Accuracy: \"+str(accuracy_score(y_test, y_pred)))"
      ],
      "execution_count": null,
      "outputs": [
        {
          "output_type": "stream",
          "text": [
            "Accuracy: 0.764102564102564\n"
          ],
          "name": "stdout"
        }
      ]
    }
  ]
}